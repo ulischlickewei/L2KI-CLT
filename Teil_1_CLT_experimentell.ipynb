{
  "cells": [
    {
      "cell_type": "markdown",
      "metadata": {
        "id": "view-in-github",
        "colab_type": "text"
      },
      "source": [
        "<a href=\"https://colab.research.google.com/github/ulischlickewei/L2KI-CLT/blob/main/Teil_1_CLT_experimentell.ipynb\" target=\"_parent\"><img src=\"https://colab.research.google.com/assets/colab-badge.svg\" alt=\"Open In Colab\"/></a>"
      ]
    },
    {
      "cell_type": "markdown",
      "id": "2f98d3f3-a0b1-4a62-8634-2cbe269e80db",
      "metadata": {
        "id": "2f98d3f3-a0b1-4a62-8634-2cbe269e80db"
      },
      "source": [
        "# Der zentrale Grenzwertsatz\n",
        "Ulrich Schlickewei (ulrich.schlickewei@thi.de)\n",
        "## Über diese Aktivität"
      ]
    },
    {
      "cell_type": "markdown",
      "id": "f585809f-e8e0-468d-b9ad-464c1b8f1f0b",
      "metadata": {
        "id": "f585809f-e8e0-468d-b9ad-464c1b8f1f0b"
      },
      "source": [
        "Diese Aktivität ist Teil 1 einer Lerneinheit zum Zentralen Grenzwertsatz. In diesem Teil soll die Aussage des Zentralen Grenzwertsatzes experimentell entdeckt werden.y"
      ]
    },
    {
      "cell_type": "markdown",
      "id": "ff80dd6b-de51-4ba3-8dfe-63a03024f2c5",
      "metadata": {
        "id": "ff80dd6b-de51-4ba3-8dfe-63a03024f2c5"
      },
      "source": [
        "### Anleitung\n",
        "Dieses Notebook enthält unterschiedliche Aufgaben:\n",
        "- **Programmieraufgaben**: Diese sollen in Python direkt in den dafür vorgesehenen Zellen unterhalb der Aufgabenstellung programmiert werden. Es können nach Bedarf beliebige weitere Codezellen in das Notebook eingefügt werden. Alle Programmieraufgaben enthalten bereits einen vorgegebenen Rumpf an Code. Dieser vorgegebene Code muss an überall dort, wo `...` zu finden ist, durch eigenen Code vervollständigt werden.\n",
        "- **Freitextaufgaben**: Hierbei soll eine Graphik beschrieben oder interpretiert werden. Der Antworttext soll in Markdown verfasst in den unter dem Aufgabentext bereitgestellten Markdown-Zellen eingefügt werden."
      ]
    },
    {
      "cell_type": "markdown",
      "id": "1593dd55-2ccf-45c9-8f02-e039aad62f19",
      "metadata": {
        "id": "1593dd55-2ccf-45c9-8f02-e039aad62f19"
      },
      "source": [
        "### Benötigte Pakete\n",
        "Dieses Notebook benötigt folgende Pakete. Solltest Du das Notebook in Deiner eigenen Umgebung laufen lassen, musst Du diese ggf. noch installieren:\n",
        "- Numpy (`pip install numpy`)\n",
        "- Pandas (`pip install pandas`)\n",
        "- Scipy (`pip install scipy`)\n",
        "- Plotly (`pip install plotly`)\n",
        "- Plotly Express (`pip install plotly_express`)\n",
        "- Dash (`pip install dash`)\n",
        "\n",
        "Solltest Du das Notebook in Google Colab nutzen, so lasse bitte die untenstehende Zelle laufen."
      ]
    },
    {
      "cell_type": "code",
      "source": [
        "if 'google.colab' in str(get_ipython()):\n",
        "  print('Running on CoLab')\n",
        "  !pip install dash\n",
        "else:\n",
        "  print('Not running on CoLab')"
      ],
      "metadata": {
        "id": "Xzu1bEV-u92Y"
      },
      "id": "Xzu1bEV-u92Y",
      "execution_count": null,
      "outputs": []
    },
    {
      "cell_type": "markdown",
      "id": "3425a5d3-9a13-4ab6-ae31-ee0715b33861",
      "metadata": {
        "id": "3425a5d3-9a13-4ab6-ae31-ee0715b33861"
      },
      "source": [
        "## A. Simulation von Stichproben"
      ]
    },
    {
      "cell_type": "markdown",
      "id": "15e41a9d-22a6-42c8-a120-3e18a2eeb153",
      "metadata": {
        "id": "15e41a9d-22a6-42c8-a120-3e18a2eeb153"
      },
      "source": [
        "### A.1 Würfeln mit fairen Würfeln\n",
        "Wir starten mit der Simulation eines Würfelexperiments: Wir würfeln mit einem fairen Würfel und wiederholen dieses Experiment `n` mal.\n",
        "\n",
        "Dieses Vorgehen implementieren wir nun."
      ]
    },
    {
      "cell_type": "markdown",
      "id": "c6170400-26d7-4a70-ab71-743fcb14b742",
      "metadata": {
        "id": "c6170400-26d7-4a70-ab71-743fcb14b742"
      },
      "source": [
        "#### Aufgabe A.1.1\n",
        "Schreibe eine Funktion `throw_one_die` mit folgender Signatur:\n",
        "- Input: `n` = Anzahl an Wiederholungen des einzelnen Würfelwurfs\n",
        "- Output: `Z` = Numpy-Array der Länge `n`. Dieser Array soll das simulierte Ergebnis des oben beschriebenen Würfelexperiments enthalten. `Z` soll also Zufallszahlen zwischen $1$ und $6$ enthalten, welche aus einer diskreten Gleichverteilung gezogen werden.\n",
        "\n",
        "*Hinweis*: Gleichverteilte, ganzzahlige Zufallszahlen erhält man in `numpy` über [`random.Generator.integers`](https://numpy.org/doc/stable/reference/random/generated/numpy.random.Generator.integers.html#numpy.random.Generator.integers) (bitte anklicken, um auf die Dokumentation dieser Methode zu gelangen)."
      ]
    },
    {
      "cell_type": "code",
      "execution_count": null,
      "id": "664190fd-34a4-4620-a0d1-5d903ca21deb",
      "metadata": {
        "tags": [],
        "id": "664190fd-34a4-4620-a0d1-5d903ca21deb"
      },
      "outputs": [],
      "source": [
        "import numpy as np\n",
        "\n",
        "def throw_one_die(n):\n",
        "    rng = np.random.default_rng()\n",
        "    Z = ...\n",
        "    return ..."
      ]
    },
    {
      "cell_type": "markdown",
      "id": "150c09fa-a309-4d35-a9a4-f1aca0275bac",
      "metadata": {
        "id": "150c09fa-a309-4d35-a9a4-f1aca0275bac"
      },
      "source": [
        "#### Aufgabe A.1.2\n",
        "Führe die untenstehende Zelle aus. Diese erstellt ein interaktives Histogramm der Augenzahlen, welche mithilfe der Funktion aus A.1.1 gewürfelt werden. Du kannst dabei die Zahl der Wiederholungen frei über den Slider wählen.\n",
        "\n",
        "Betrachte das Histogramm für unterschiedliche Werte von `n` und fasse Deine Beobachtungen in der Textzelle unterhalb des Graphen zusammen."
      ]
    },
    {
      "cell_type": "code",
      "execution_count": null,
      "id": "01d328f6-5916-4788-8858-1bf0ee108974",
      "metadata": {
        "deletable": false,
        "scrolled": true,
        "tags": [],
        "id": "01d328f6-5916-4788-8858-1bf0ee108974"
      },
      "outputs": [],
      "source": [
        "from dash import Dash, html, dcc, Input, Output\n",
        "import plotly.express as px\n",
        "\n",
        "app = Dash()\n",
        "\n",
        "app.layout = [html.H2('Histogramm: Wiederholtes Werfen eines einzelnen Würfels'),\n",
        "              html.Div('Anzahl Wiederholungen'),\n",
        "              dcc.Slider(0, 4, 0.1,\n",
        "                  id='num-repetitions',\n",
        "                  marks={i: '{}'.format(10 ** i) for i in range(5)},\n",
        "                  value=0,\n",
        "              ),\n",
        "              dcc.Graph(id=\"histogram\")\n",
        "]\n",
        "@app.callback(\n",
        "    Output(\"histogram\", \"figure\"),\n",
        "    Input(\"num-repetitions\", \"value\")\n",
        ")\n",
        "\n",
        "def update_chart(n_base):\n",
        "    num_repetitions = int(round((10**n_base),0))\n",
        "    Z = throw_one_die(num_repetitions)\n",
        "    fig = px.histogram(x=Z,nbins=6, range_x = [0.5,6.5])\n",
        "    return fig\n",
        "\n",
        "if __name__ == '__main__':\n",
        "    app.run(debug=True, jupyter_mode = \"inline\")"
      ]
    },
    {
      "cell_type": "markdown",
      "id": "1d43712b-0840-4304-b455-fa17ed9498c8",
      "metadata": {
        "id": "1d43712b-0840-4304-b455-fa17ed9498c8"
      },
      "source": [
        "*Deine Beobachtungen in diese Zelle:*\n",
        "\n",
        "..."
      ]
    },
    {
      "cell_type": "markdown",
      "id": "c18f31e3-440b-478a-ab63-b9232f3bdff9",
      "metadata": {
        "id": "c18f31e3-440b-478a-ab63-b9232f3bdff9"
      },
      "source": [
        "#### Aufgabe A.1.3\n",
        "\n",
        "Statt eines einzigen Würfels werfen wir jetzt einen ganzen Sack mit `N` Würfeln. Auch dieses Experiment wiederholen wir, wobei `n` die Anzahl der Wiederholungen beschreibe.\n",
        "\n",
        "Schreibe eine Funktion `throw_several_dice` mit folgender Signatur:\n",
        "- Inputs: `n` = Anzahl an Wiederholungen der Sackwürfe und `N` = Anzahl an Würfeln pro Sack\n",
        "- Output: `Z` = Numpy-Array der Länge `n`, welcher für jede Wiederholung die **mittlere Augenzahl** aller Würfel aus dem jeweiligen Sack enthält.\n",
        "\n",
        "Auch hier ist wieder der `numpy`-Zufallsgenerator [`random.Generator.integers`]([https://numpy.org/doc/stable/reference/random/generated/numpy.random.Generator.integers.html#numpy.random.Generator.integers) hilfreich (bitte anklicken, um auf die Dokumentation dieser Methode zu gelangen)."
      ]
    },
    {
      "cell_type": "code",
      "execution_count": null,
      "id": "6d943e8e-3689-4baf-bc47-7ed6210633b0",
      "metadata": {
        "tags": [],
        "id": "6d943e8e-3689-4baf-bc47-7ed6210633b0"
      },
      "outputs": [],
      "source": [
        "def throw_several_dice(n,N):\n",
        "    rng = np.random.default_rng()\n",
        "    Z = ...\n",
        "    return ..."
      ]
    },
    {
      "cell_type": "markdown",
      "id": "4f2a67b0-19b8-486d-b75d-813211aa1af3",
      "metadata": {
        "id": "4f2a67b0-19b8-486d-b75d-813211aa1af3"
      },
      "source": [
        "#### Aufgabe A.1.4\n",
        "Führe die untenstehende Zelle aus. Diese erstellt ein interaktives Histogramm der mittleren Augenzahl, welche mithilfe der Funktion aus A.1.3 gewürfelt werden. Du kannst dabei die Zahl der Würfel im Sack `N` frei über den Slider wählen. Die Anzahl der Wiederholungen haben wir auf 10.000 gesetzt, um ein gutes Gefühl für die Verteilung der mittleren Augenzahl zu bekommen.\n",
        "\n",
        "Betrachte das Histogramm für unterschiedliche Werte für die Anzahl der Würfel im Sack `N` und fasse Deine Beobachtungen in der Textzelle unterhalb des Graphen zusammen."
      ]
    },
    {
      "cell_type": "code",
      "execution_count": null,
      "id": "072e739c-4684-497c-8a37-365d2b52f2b7",
      "metadata": {
        "tags": [],
        "id": "072e739c-4684-497c-8a37-365d2b52f2b7"
      },
      "outputs": [],
      "source": [
        "from dash import Dash, html, dcc, Input, Output\n",
        "import plotly.graph_objects as go\n",
        "\n",
        "app = Dash()\n",
        "\n",
        "app.layout = [html.H2('Histogramm: Wiederholtes Werfen von N Würfeln'),\n",
        "              html.Div('Anzahl Würfel pro Sack'),\n",
        "              dcc.Slider(1, 50,\n",
        "                  id='num-dice',\n",
        "                  marks={i: '{}'.format(i) for i in [1,2,5,10,20,50]},\n",
        "                  value=1,\n",
        "              ),\n",
        "              dcc.Graph(id=\"histogram\")\n",
        "]\n",
        "@app.callback(\n",
        "    Output(\"histogram\", \"figure\"),\n",
        "    Input(\"num-dice\", \"value\")\n",
        ")\n",
        "\n",
        "def update_chart(num_dice):\n",
        "    num_repetitions = 10000\n",
        "    num_dice = int(num_dice)\n",
        "    Z = throw_several_dice(num_repetitions, num_dice)\n",
        "    fig = go.Figure()\n",
        "    fig.add_trace(go.Histogram(x=Z, histnorm = 'probability density', nbinsx=30))\n",
        "    return fig\n",
        "\n",
        "if __name__ == '__main__':\n",
        "    app.run(debug=True, jupyter_mode = \"inline\")\n"
      ]
    },
    {
      "cell_type": "markdown",
      "id": "3252472e-2c0a-4d2e-8fcf-9fab0b6f3d35",
      "metadata": {
        "id": "3252472e-2c0a-4d2e-8fcf-9fab0b6f3d35"
      },
      "source": [
        "*Deine Beobachtungen hier*\n",
        "\n",
        "..."
      ]
    },
    {
      "cell_type": "markdown",
      "id": "9051a5fc-95b3-414d-ad58-a509b7c98954",
      "metadata": {
        "id": "9051a5fc-95b3-414d-ad58-a509b7c98954"
      },
      "source": [
        "### A.2 Würfeln mit unfairen Würfeln\n",
        "Wir wiederholen jetzt das Zufallsexperiment aus A.1, diesmal allerdings mit einem unfairen Würfel, bei welchem auf die 6 die Wahrscheinlichkeit $0.5$ entfällt, während alle anderen Augenzahlen jeweils Wahrscheinlichkeit $0.1$ haben."
      ]
    },
    {
      "cell_type": "markdown",
      "id": "65726fdb-a01e-47e1-9cb8-b7c984a59834",
      "metadata": {
        "id": "65726fdb-a01e-47e1-9cb8-b7c984a59834"
      },
      "source": [
        "#### Aufgabe A.2.1\n",
        "Schreibe eine Funktion throw_several_unfair_dice mit folgender Signatur:\n",
        "\n",
        "- Inputs: n = Anzahl an Wiederholungen der Sackwürfe und N = Anzahl an Würfeln pro Sack\n",
        "- Output: Z = Numpy-Array der Länge n, welcher für jede Wiederholung die mittlere Augenzahl aller Würfel aus dem jeweiligen Sack enthält.\n",
        "\n",
        "*Hinweis*: Verwende den numpy-Zufallsgenerator [`random.Generator.choice`](https://numpy.org/doc/stable/reference/random/generated/numpy.random.Generator.choice.html), welcher es erlaubt, eine eigene Wahrscheinlichkeitsverteilung zu hinterlegen."
      ]
    },
    {
      "cell_type": "code",
      "execution_count": null,
      "id": "429e7894-f836-4eca-99c5-67e318de4974",
      "metadata": {
        "id": "429e7894-f836-4eca-99c5-67e318de4974"
      },
      "outputs": [],
      "source": [
        "def throw_several_unfair_dice(n,N):\n",
        "    rng = np.random.default_rng()\n",
        "    ...\n",
        "    return ..."
      ]
    },
    {
      "cell_type": "markdown",
      "id": "d70421f0-43a2-4555-91c6-7e1a38167b3d",
      "metadata": {
        "id": "d70421f0-43a2-4555-91c6-7e1a38167b3d"
      },
      "source": [
        "#### Aufgabe A.2.2\n",
        "\n",
        "Führe die untenstehende Zelle aus. Diese erstellt ein interaktives Histogramm der mittleren Augenzahlen, welche mithilfe der Funktion aus A.2.1 bzw. Aus A.1.3 gewürfelt werden. Du kannst über den Schalter wählen, ob Du mit einem unfairen oder mit einem fairen Würfel würfeln möchtest. Zudem kannst Du die Zahl der Würfel im Sack `N` und die Zahl der Wiederholungen `n` frei über den Slider wählen.\n",
        "\n",
        "Betrachte das Histogramm für unterschiedliche Werte von `N` und fasse Deine Beobachtungen in der Textzelle unterhalb des Graphen zusammen."
      ]
    },
    {
      "cell_type": "code",
      "execution_count": null,
      "id": "27d81f4a-9395-4518-91ee-fea5abf009a4",
      "metadata": {
        "id": "27d81f4a-9395-4518-91ee-fea5abf009a4"
      },
      "outputs": [],
      "source": [
        "from dash import Dash, html, dcc, Input, Output\n",
        "import plotly.graph_objects as go\n",
        "\n",
        "app = Dash()\n",
        "\n",
        "app.layout = [html.H2('Histogramm: Wiederholtes Werfen von N Würfeln'),\n",
        "              html.Div('Art des Würfels'),\n",
        "              dcc.RadioItems(options=['fair', 'unfair'], value='unfair', id='controls-and-radio-item'),\n",
        "              html.Div('Anzahl Würfel pro Sack'),\n",
        "              dcc.Slider(1, 100,\n",
        "                  id='num-dice',\n",
        "                  marks={i: '{}'.format(i) for i in [1,2,5,10,20,50,100]},\n",
        "                  value=1,\n",
        "              ),\n",
        "              dcc.Graph(id=\"histogram\")\n",
        "]\n",
        "@app.callback(\n",
        "    Output(\"histogram\", \"figure\"),\n",
        "    Input(\"controls-and-radio-item\", \"value\"),\n",
        "    Input(\"num-dice\", \"value\")\n",
        ")\n",
        "\n",
        "def update_chart(type_die, num_dice):\n",
        "    num_repetitions = 10000\n",
        "    num_dice = int(num_dice)\n",
        "    if (type_die == 'fair'):\n",
        "        Z = throw_several_dice(num_repetitions, num_dice)\n",
        "    else:\n",
        "        Z = throw_several_unfair_dice(num_repetitions, num_dice)\n",
        "    fig = go.Figure()\n",
        "    fig.add_trace(go.Histogram(x=Z, histnorm = 'probability density', nbinsx=30))\n",
        "    return fig\n",
        "\n",
        "if __name__ == '__main__':\n",
        "    app.run(debug=True, jupyter_mode = \"inline\")"
      ]
    },
    {
      "cell_type": "markdown",
      "id": "fe305652-903f-4c8a-8ea8-753e1185da26",
      "metadata": {
        "id": "fe305652-903f-4c8a-8ea8-753e1185da26"
      },
      "source": [
        "*Deine Beobachtungen hier*\n",
        "\n",
        "..."
      ]
    },
    {
      "cell_type": "markdown",
      "id": "539d8531-ad8a-4dab-99f4-6673fb07449f",
      "metadata": {
        "id": "539d8531-ad8a-4dab-99f4-6673fb07449f"
      },
      "source": [
        "#### Aufgabe A.2.3\n",
        "\n",
        "Schreibe eine Funktion `compute_sample_mean_and_sigma`, welche folgende Signatur hat:\n",
        "- Input: `type_of_die` = `string`, welcher die Werte `fair` oder `unfair` haben kann je nach Art des Würfels; `N` = Anzahl der Würfel im Sack\n",
        "- Output: `mu` = erwartete mittlere Augenzahl beim Werfen des Sacks, `sigma` = erwartete Standardabweichung der mittleren Augenzahl bei `N` Würfeln im Sack"
      ]
    },
    {
      "cell_type": "code",
      "execution_count": null,
      "id": "4e22d995-912f-4826-8ee0-b0e6c28015ae",
      "metadata": {
        "id": "4e22d995-912f-4826-8ee0-b0e6c28015ae"
      },
      "outputs": [],
      "source": [
        "def compute_sample_mean_and_sigma(type_of_die, N):\n",
        "    ...\n",
        "    return mu, sigma"
      ]
    },
    {
      "cell_type": "markdown",
      "id": "95769a42-04b7-4019-9651-5b8964be4488",
      "metadata": {
        "id": "95769a42-04b7-4019-9651-5b8964be4488"
      },
      "source": [
        "#### Aufgabe A.2.4\n",
        "Führe die untenstehende Zelle aus, welche eine interaktive Graphik zurückgibt. In dieser kann zwischen fairem und unfairem Würfel gewählt werden, zudem kann die Anzahl der Würfel im Sack `N` (Stichprobengröße) gewählt werden. Die Graphik gibt zudem die Dichtefunktion der Normalverteilung mit Mittelwert und Standardabweichung aus, welche durch die Funktion aus Aufgabe A.2.3 berechnet wird.\n",
        "\n",
        "Was beobachtest Du? Wie unterscheiden sich die Verteilungen des Stichprobenmittels bei fairem und bei unfairem Würfel?"
      ]
    },
    {
      "cell_type": "code",
      "execution_count": null,
      "id": "120394a8-2d17-4fcf-bdfe-232674ab2b31",
      "metadata": {
        "id": "120394a8-2d17-4fcf-bdfe-232674ab2b31"
      },
      "outputs": [],
      "source": [
        "from dash import Dash, html, dcc, Input, Output\n",
        "import plotly.express as px\n",
        "import plotly.graph_objects as go\n",
        "\n",
        "app = Dash()\n",
        "\n",
        "app.layout = [html.H2('Histogramm: Wiederholtes Werfen von N Würfeln'),\n",
        "              html.Div('Art des Würfels'),\n",
        "              dcc.RadioItems(options=['fair', 'unfair'], value='unfair', id='controls-and-radio-item'),\n",
        "              html.Div('Anzahl Würfel pro Sack'),\n",
        "              dcc.Slider(1, 100,\n",
        "                  id='num-dice',\n",
        "                  marks={i: '{}'.format(i) for i in [1,2,5,10,20,50,100]},\n",
        "                  value=1,\n",
        "              ),\n",
        "              dcc.Graph(id=\"histogram\")\n",
        "]\n",
        "@app.callback(\n",
        "    Output(\"histogram\", \"figure\"),\n",
        "    Input(\"controls-and-radio-item\", \"value\"),\n",
        "    Input(\"num-dice\", \"value\")\n",
        ")\n",
        "\n",
        "def update_chart(type_die, num_dice):\n",
        "    from scipy.stats import norm\n",
        "    num_repetitions = 10000\n",
        "    num_dice = int(num_dice)\n",
        "    if (type_die == 'fair'):\n",
        "        Z = throw_several_dice(num_repetitions, num_dice)\n",
        "    else:\n",
        "        Z = throw_several_unfair_dice(num_repetitions, num_dice)\n",
        "    fig = go.Figure()\n",
        "    fig.add_trace(go.Histogram(x=Z, histnorm = 'probability density', nbinsx=30, name='Histogramm'))\n",
        "    mu,sigma = compute_sample_mean_and_sigma(type_die, num_dice)\n",
        "    x=np.linspace(mu-2, mu+2, num=1000)\n",
        "    fig.add_trace(go.Scatter(x=x, y=norm.pdf(x,loc=mu, scale=sigma), mode='lines', name='Dichte der Normalverteilung'))\n",
        "    return fig\n",
        "\n",
        "if __name__ == '__main__':\n",
        "    app.run(debug=True, jupyter_mode = \"inline\")"
      ]
    },
    {
      "cell_type": "markdown",
      "id": "57d95779-0f6d-46c1-b710-37ad05e49378",
      "metadata": {
        "id": "57d95779-0f6d-46c1-b710-37ad05e49378"
      },
      "source": [
        "*Deine Beobachtungen hier*\n",
        "\n",
        "- Für große Werte von `N` passt die Dichte der Normalverteilung sehr gut zum Histogramm, sowohl für den fairen als auch für den unfairen Würfel.\n",
        "- Für kleinere Werte von `N` gibt es aber Unterschiede zwischen fairem und unfairem Würfel. Bei `N=10` oder sogar `N=20` sieht man beim unfairen Würfel, dass die Verteilung leicht rechtssteil ist. Dies fällt vor allem im direkten Vergleich mit der Dichte der Normalverteilung auf.\n",
        "- Beim fairen Würfeln hingegen passt bereits für `N=10` die Dichte der Normalverteilung sehr gut zum Histogramm."
      ]
    },
    {
      "cell_type": "markdown",
      "id": "2f4c4b16-8653-4044-90d4-4e8aa0be15b4",
      "metadata": {
        "id": "2f4c4b16-8653-4044-90d4-4e8aa0be15b4"
      },
      "source": [
        "## B. Stichproben aus einem echten Datensatz\n",
        "\n",
        "Im Teil A haben wir das wiederholte Werfen mehrerer Würfel simuliert. Wir haben das Histogramm der mittleren Augenzahl untersucht, wobei wir die gleiche Anzahl an Würfeln immer wieder geworfen haben. Interpretieren wir die Augenzahlen der `N` Würfel in einem Sack als eine Stichprobe der Größe `N`, so haben wir also die Verteilung des Stichprobenmittels simuliert, wenn die Stichprobe immer und immer wieder gezogen wird. Als Ergebnis dieser Untersuchtung können wir festhalten, dass sich die Histogramme der simulierten Stichprobenmittel für zunehmende Stichprobengröße dem Histogramm einer Normalverteilung mit passenden Parametern annähert.\n",
        "\n",
        "Im nun folgenden Teil B möchten wir eine ähnliche Untersuchung mit echten Daten anstellen. Dafür verwenden wir einen Datensatz, welcher die Verspätung von 13.825 United-Airlines-Flügen beim Start am Flughafen San Francisco aus dem Sommer 2015 enthält. Dieses Beispiel stammt aus dem Onlinebuch [\"Computational and Inferential Thinking: The Foundations of Data Science\"](https://inferentialthinking.com) von A. Adhikari, J. DeNero und D. Wagner."
      ]
    },
    {
      "cell_type": "markdown",
      "id": "142cf186-e069-41c5-85ea-69310156eed9",
      "metadata": {
        "id": "142cf186-e069-41c5-85ea-69310156eed9"
      },
      "source": [
        "#### Aufgabe B.1\n",
        "Führe die untenstehende Zelle aus. Diese lädt den Datensatz und gibt ein Histogramm der Flugverspätungen aus.\n",
        "\n",
        "Nutze dann die untenstehende leere Codezelle, um die mittlere Verspätung und die Standardabweichung der Verspätung zu bestimmen. Beschreibe dann die Verteilung und das Histogramm."
      ]
    },
    {
      "cell_type": "code",
      "execution_count": null,
      "id": "8121732c-8d7a-4b86-8b4c-c56dcc60133d",
      "metadata": {
        "id": "8121732c-8d7a-4b86-8b4c-c56dcc60133d"
      },
      "outputs": [],
      "source": [
        "import pandas as pd\n",
        "url = 'https://raw.githubusercontent.com/ulischlickewei/L2KI-CLT/refs/heads/main/united_summer2015.csv'\n",
        "united = pd.read_csv(url)\n",
        "px.histogram(united, x = 'Delay', range_x = [-20,300])"
      ]
    },
    {
      "cell_type": "code",
      "execution_count": null,
      "id": "b74196e5-819f-4fa1-a9cf-f472332ff871",
      "metadata": {
        "id": "b74196e5-819f-4fa1-a9cf-f472332ff871"
      },
      "outputs": [],
      "source": [
        "united"
      ]
    },
    {
      "cell_type": "code",
      "execution_count": null,
      "id": "b897ebc7-1712-471b-9a3e-f9604e7f7ddc",
      "metadata": {
        "id": "b897ebc7-1712-471b-9a3e-f9604e7f7ddc"
      },
      "outputs": [],
      "source": [
        "mean_delay = ...\n",
        "sd_delay = ...\n",
        "mean_delay, sd_delay"
      ]
    },
    {
      "cell_type": "markdown",
      "id": "e1232502-0bdd-4833-8113-6327806e67a9",
      "metadata": {
        "id": "e1232502-0bdd-4833-8113-6327806e67a9"
      },
      "source": [
        "*Deine Beschreibung der Verteilung hier*\n",
        "\n",
        "..."
      ]
    },
    {
      "cell_type": "markdown",
      "id": "5f47cf15-ccb2-48a1-89c2-1f4b7ea25f98",
      "metadata": {
        "id": "5f47cf15-ccb2-48a1-89c2-1f4b7ea25f98"
      },
      "source": [
        "#### Aufgabe B.2"
      ]
    },
    {
      "cell_type": "markdown",
      "id": "585cb386-726e-490d-ad7c-e0f5c255382a",
      "metadata": {
        "id": "585cb386-726e-490d-ad7c-e0f5c255382a"
      },
      "source": [
        "Wir werden jetzt so tun, als wären die 13.825 Datensätze unsere Gesamtpopulation zu Verspätungen. Aus dieser werden wir 10.000 Stichproben der Stichprobengröße 400 ziehen und für jede dieser Stichproben die jeweiligen Stichprobenmittel berechnen.\n",
        "\n",
        "Erstelle einen Numpy-Array der Länge 10.000 mit Namen `mean_deviations`. Dieser soll die Stichprobenmittel der 10.000 Stichproben der Länge 400 enthalten.\n",
        "\n",
        "Nutzen dafür wiederholt die Pandas-Funktion [`sample`](https://pandas.pydata.org/docs/reference/api/pandas.DataFrame.sample.html) (klicke auf den Link, um zur Dokumentation zu gelangen), um aus dem Gesamtdatensatz Stichproben der Länge 400 zu erstellen. Dabei sollte unbedingt mit Zurücklegen (Parameter `replace`) gewählt werden, da das Ziehen mit Zurücklegen beim Simulieren einer Stichprobe aus einem endlichen Datensatz bessere Ergebnisse erzielt. Befülle dann iterativ `mean_deviations` mit dem jeweiligen Stichprobenmittel."
      ]
    },
    {
      "cell_type": "code",
      "execution_count": null,
      "id": "05813a44-93d5-4d09-9a67-68b4ced7c137",
      "metadata": {
        "id": "05813a44-93d5-4d09-9a67-68b4ced7c137"
      },
      "outputs": [],
      "source": [
        "num_repetitions = 10000\n",
        "num_samples=400\n",
        "mean_deviations = ...\n",
        "..."
      ]
    },
    {
      "cell_type": "markdown",
      "id": "97eaab12-f411-4e12-9f45-0aa4321ee0b7",
      "metadata": {
        "id": "97eaab12-f411-4e12-9f45-0aa4321ee0b7"
      },
      "source": [
        "#### Aufgabe B.3\n",
        "\n",
        "Berechne in der Codezelle unten das erwartete Stichprobenmittel `mean` und die erwartete Stichprobenstandardabweichung `sigma`."
      ]
    },
    {
      "cell_type": "code",
      "execution_count": null,
      "id": "7fd40fae-5b9e-4702-b8e4-815096d17950",
      "metadata": {
        "id": "7fd40fae-5b9e-4702-b8e4-815096d17950"
      },
      "outputs": [],
      "source": [
        "mu,sigma = ..."
      ]
    },
    {
      "cell_type": "markdown",
      "id": "a9cbe4c2-6219-4197-9401-49d17ad94841",
      "metadata": {
        "id": "a9cbe4c2-6219-4197-9401-49d17ad94841"
      },
      "source": [
        "#### Aufgabe B.4\n",
        "Führe die untenstehende Codezelle aus. Diese erstellt das Histogramm der Stichprobenmittel aus den 10.000 Stichproben der Größe 400. Zum Vergleich wird zudem die Dichte der Normalverteilung mit Mittelwert `mu` und Standardabweichung `sigma` angezeigt.\n",
        "\n",
        "Beschreibe dann Deine Beobachtungen."
      ]
    },
    {
      "cell_type": "code",
      "execution_count": null,
      "id": "1a59127e-7c18-49b2-9574-f5456133156a",
      "metadata": {
        "id": "1a59127e-7c18-49b2-9574-f5456133156a"
      },
      "outputs": [],
      "source": [
        "import math\n",
        "from scipy.stats import norm\n",
        "\n",
        "fig = go.Figure()\n",
        "fig.add_trace(go.Histogram(x=mean_deviations, histnorm = 'probability density', nbinsx = 75, name='Histogramm'))\n",
        "x=np.linspace(mu-10, mu+10, num=1000)\n",
        "fig.add_trace(go.Scatter(x=x, y=norm.pdf(x,loc=mu, scale=sigma), mode='lines', name='Dichte der Normalverteilung'))"
      ]
    },
    {
      "cell_type": "markdown",
      "id": "9ee02d93-5b53-4087-9e68-0b05b63fdfd4",
      "metadata": {
        "id": "9ee02d93-5b53-4087-9e68-0b05b63fdfd4"
      },
      "source": [
        "*Deine Beobachtungen hier*\n",
        "\n",
        "..."
      ]
    }
  ],
  "metadata": {
    "kernelspec": {
      "display_name": "Python 3",
      "name": "python3"
    },
    "language_info": {
      "name": "python"
    },
    "colab": {
      "provenance": [],
      "include_colab_link": true
    }
  },
  "nbformat": 4,
  "nbformat_minor": 5
}